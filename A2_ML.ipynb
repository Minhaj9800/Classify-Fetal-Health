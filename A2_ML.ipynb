{
 "cells": [
  {
   "cell_type": "code",
   "execution_count": 1,
   "id": "f2d50acc",
   "metadata": {},
   "outputs": [],
   "source": [
    "#importing libraries\n",
    "%matplotlib inline\n",
    "import numpy as np\n",
    "import pandas as pd\n",
    "import math\n",
    "import warnings\n",
    "warnings.filterwarnings('ignore')\n",
    "import seaborn as sns\n",
    "import matplotlib.pyplot as plt\n",
    "from sklearn.model_selection import train_test_split\n",
    "from sklearn.tree import DecisionTreeClassifier\n",
    "from sklearn import metrics\n",
    "from sklearn.metrics import confusion_matrix,ConfusionMatrixDisplay,accuracy_score,precision_score,recall_score,f1_score,classification_report\n",
    "from sklearn.ensemble import RandomForestClassifier\n",
    "from sklearn.linear_model import LogisticRegression\n",
    "from sklearn.naive_bayes import MultinomialNB\n",
    "from sklearn.model_selection import cross_validate, cross_val_score\n",
    "from sklearn.model_selection import KFold\n",
    "from sklearn.neighbors import KNeighborsClassifier\n",
    "from sklearn.neural_network import MLPClassifier\n",
    "from sklearn.svm import SVC\n",
    "from sklearn.model_selection import GridSearchCV"
   ]
  },
  {
   "cell_type": "code",
   "execution_count": 2,
   "id": "eb881a80",
   "metadata": {},
   "outputs": [
    {
     "data": {
      "text/html": [
       "<div>\n",
       "<style scoped>\n",
       "    .dataframe tbody tr th:only-of-type {\n",
       "        vertical-align: middle;\n",
       "    }\n",
       "\n",
       "    .dataframe tbody tr th {\n",
       "        vertical-align: top;\n",
       "    }\n",
       "\n",
       "    .dataframe thead th {\n",
       "        text-align: right;\n",
       "    }\n",
       "</style>\n",
       "<table border=\"1\" class=\"dataframe\">\n",
       "  <thead>\n",
       "    <tr style=\"text-align: right;\">\n",
       "      <th></th>\n",
       "      <th>baseline</th>\n",
       "      <th>accel</th>\n",
       "      <th>mov</th>\n",
       "      <th>u_contr</th>\n",
       "      <th>decel_lght</th>\n",
       "      <th>decel_sevr</th>\n",
       "      <th>decel_prlng</th>\n",
       "      <th>ab_stv</th>\n",
       "      <th>mean_stv</th>\n",
       "      <th>ab_stv_time</th>\n",
       "      <th>...</th>\n",
       "      <th>hist_min</th>\n",
       "      <th>hist_max</th>\n",
       "      <th>hist_npeaks</th>\n",
       "      <th>hist_nzeroes</th>\n",
       "      <th>hist_mode</th>\n",
       "      <th>hist_mean</th>\n",
       "      <th>hist_median</th>\n",
       "      <th>hist_var</th>\n",
       "      <th>hist_tend</th>\n",
       "      <th>fetal_health</th>\n",
       "    </tr>\n",
       "  </thead>\n",
       "  <tbody>\n",
       "    <tr>\n",
       "      <th>0</th>\n",
       "      <td>120.0</td>\n",
       "      <td>0.000</td>\n",
       "      <td>0.0</td>\n",
       "      <td>0.000</td>\n",
       "      <td>0.000</td>\n",
       "      <td>0.0</td>\n",
       "      <td>0.0</td>\n",
       "      <td>73.0</td>\n",
       "      <td>0.5</td>\n",
       "      <td>43.0</td>\n",
       "      <td>...</td>\n",
       "      <td>62.0</td>\n",
       "      <td>126.0</td>\n",
       "      <td>2.0</td>\n",
       "      <td>0.0</td>\n",
       "      <td>120.0</td>\n",
       "      <td>137.0</td>\n",
       "      <td>121.0</td>\n",
       "      <td>73.0</td>\n",
       "      <td>1.0</td>\n",
       "      <td>2</td>\n",
       "    </tr>\n",
       "    <tr>\n",
       "      <th>1</th>\n",
       "      <td>132.0</td>\n",
       "      <td>0.006</td>\n",
       "      <td>0.0</td>\n",
       "      <td>0.006</td>\n",
       "      <td>0.003</td>\n",
       "      <td>0.0</td>\n",
       "      <td>0.0</td>\n",
       "      <td>17.0</td>\n",
       "      <td>2.1</td>\n",
       "      <td>0.0</td>\n",
       "      <td>...</td>\n",
       "      <td>68.0</td>\n",
       "      <td>198.0</td>\n",
       "      <td>6.0</td>\n",
       "      <td>1.0</td>\n",
       "      <td>141.0</td>\n",
       "      <td>136.0</td>\n",
       "      <td>140.0</td>\n",
       "      <td>12.0</td>\n",
       "      <td>0.0</td>\n",
       "      <td>1</td>\n",
       "    </tr>\n",
       "    <tr>\n",
       "      <th>2</th>\n",
       "      <td>133.0</td>\n",
       "      <td>0.003</td>\n",
       "      <td>0.0</td>\n",
       "      <td>0.008</td>\n",
       "      <td>0.003</td>\n",
       "      <td>0.0</td>\n",
       "      <td>0.0</td>\n",
       "      <td>16.0</td>\n",
       "      <td>2.1</td>\n",
       "      <td>0.0</td>\n",
       "      <td>...</td>\n",
       "      <td>68.0</td>\n",
       "      <td>198.0</td>\n",
       "      <td>5.0</td>\n",
       "      <td>1.0</td>\n",
       "      <td>141.0</td>\n",
       "      <td>135.0</td>\n",
       "      <td>138.0</td>\n",
       "      <td>13.0</td>\n",
       "      <td>0.0</td>\n",
       "      <td>1</td>\n",
       "    </tr>\n",
       "    <tr>\n",
       "      <th>3</th>\n",
       "      <td>134.0</td>\n",
       "      <td>0.003</td>\n",
       "      <td>0.0</td>\n",
       "      <td>0.008</td>\n",
       "      <td>0.003</td>\n",
       "      <td>0.0</td>\n",
       "      <td>0.0</td>\n",
       "      <td>16.0</td>\n",
       "      <td>2.4</td>\n",
       "      <td>0.0</td>\n",
       "      <td>...</td>\n",
       "      <td>53.0</td>\n",
       "      <td>170.0</td>\n",
       "      <td>11.0</td>\n",
       "      <td>0.0</td>\n",
       "      <td>137.0</td>\n",
       "      <td>134.0</td>\n",
       "      <td>137.0</td>\n",
       "      <td>13.0</td>\n",
       "      <td>1.0</td>\n",
       "      <td>1</td>\n",
       "    </tr>\n",
       "    <tr>\n",
       "      <th>4</th>\n",
       "      <td>132.0</td>\n",
       "      <td>0.007</td>\n",
       "      <td>0.0</td>\n",
       "      <td>0.008</td>\n",
       "      <td>0.000</td>\n",
       "      <td>0.0</td>\n",
       "      <td>0.0</td>\n",
       "      <td>16.0</td>\n",
       "      <td>2.4</td>\n",
       "      <td>0.0</td>\n",
       "      <td>...</td>\n",
       "      <td>53.0</td>\n",
       "      <td>170.0</td>\n",
       "      <td>9.0</td>\n",
       "      <td>0.0</td>\n",
       "      <td>137.0</td>\n",
       "      <td>136.0</td>\n",
       "      <td>138.0</td>\n",
       "      <td>11.0</td>\n",
       "      <td>1.0</td>\n",
       "      <td>1</td>\n",
       "    </tr>\n",
       "  </tbody>\n",
       "</table>\n",
       "<p>5 rows × 22 columns</p>\n",
       "</div>"
      ],
      "text/plain": [
       "   baseline  accel  mov  u_contr  decel_lght  decel_sevr  decel_prlng  ab_stv  \\\n",
       "0     120.0  0.000  0.0    0.000       0.000         0.0          0.0    73.0   \n",
       "1     132.0  0.006  0.0    0.006       0.003         0.0          0.0    17.0   \n",
       "2     133.0  0.003  0.0    0.008       0.003         0.0          0.0    16.0   \n",
       "3     134.0  0.003  0.0    0.008       0.003         0.0          0.0    16.0   \n",
       "4     132.0  0.007  0.0    0.008       0.000         0.0          0.0    16.0   \n",
       "\n",
       "   mean_stv  ab_stv_time  ...  hist_min  hist_max  hist_npeaks  hist_nzeroes  \\\n",
       "0       0.5         43.0  ...      62.0     126.0          2.0           0.0   \n",
       "1       2.1          0.0  ...      68.0     198.0          6.0           1.0   \n",
       "2       2.1          0.0  ...      68.0     198.0          5.0           1.0   \n",
       "3       2.4          0.0  ...      53.0     170.0         11.0           0.0   \n",
       "4       2.4          0.0  ...      53.0     170.0          9.0           0.0   \n",
       "\n",
       "   hist_mode  hist_mean  hist_median  hist_var  hist_tend  fetal_health  \n",
       "0      120.0      137.0        121.0      73.0        1.0             2  \n",
       "1      141.0      136.0        140.0      12.0        0.0             1  \n",
       "2      141.0      135.0        138.0      13.0        0.0             1  \n",
       "3      137.0      134.0        137.0      13.0        1.0             1  \n",
       "4      137.0      136.0        138.0      11.0        1.0             1  \n",
       "\n",
       "[5 rows x 22 columns]"
      ]
     },
     "execution_count": 2,
     "metadata": {},
     "output_type": "execute_result"
    }
   ],
   "source": [
    "raw_data = pd.read_csv(\"fetal_health.csv\",\n",
    "                      dtype={'fetal_health':np.int32})\n",
    "\n",
    "raw_data = raw_data.rename(columns={\n",
    "    'baseline value':'baseline', 'accelerations':'accel', 'fetal_movement':'mov',\n",
    "    'uterine_contractions':'u_contr', \n",
    "    'light_decelerations':'decel_lght', 'severe_decelerations':'decel_sevr', \n",
    "    'prolongued_decelerations':'decel_prlng', 'abnormal_short_term_variability':'ab_stv',\n",
    "    'mean_value_of_short_term_variability':'mean_stv',\n",
    "    'percentage_of_time_with_abnormal_long_term_variability':'ab_stv_time',\n",
    "    'mean_value_of_long_term_variability':'mean_ltv', \n",
    "    'histogram_width':'hist_w', 'histogram_min':'hist_min', 'histogram_max':'hist_max', \n",
    "    'histogram_number_of_peaks':'hist_npeaks', 'histogram_number_of_zeroes':'hist_nzeroes', \n",
    "    'histogram_mode':'hist_mode', 'histogram_mean':'hist_mean', 'histogram_median':'hist_median', \n",
    "    'histogram_variance':'hist_var', 'histogram_tendency':'hist_tend',\n",
    "    'fetal_health':'fetal_health'\n",
    "})\n",
    "raw_data.head() # show first bit of data"
   ]
  },
  {
   "cell_type": "markdown",
   "id": "c8c6c1b4",
   "metadata": {},
   "source": [
    "# Separate target variable and feature selection"
   ]
  },
  {
   "cell_type": "code",
   "execution_count": 3,
   "id": "0341132f",
   "metadata": {},
   "outputs": [],
   "source": [
    "x = raw_data.loc[:, raw_data.columns!='fetal_health'] # select all the columns except fetal_health\n",
    "y = raw_data[\"fetal_health\"]            # target featla_health\n",
    "# x is our features and y is our target variable"
   ]
  },
  {
   "cell_type": "markdown",
   "id": "0462b605",
   "metadata": {},
   "source": [
    "## Splitting the dataset into train test"
   ]
  },
  {
   "cell_type": "code",
   "execution_count": 4,
   "id": "c457748e",
   "metadata": {},
   "outputs": [
    {
     "name": "stdout",
     "output_type": "stream",
     "text": [
      "(1700, 21) (1700,)\n",
      "(426, 21) (426,)\n"
     ]
    }
   ],
   "source": [
    "x_train, x_test, y_train, y_test = train_test_split(x,y, test_size=0.2)\n",
    "#shape of the training and test set\n",
    "print(x_train.shape, y_train.shape)\n",
    "print(x_test.shape, y_test.shape)"
   ]
  },
  {
   "cell_type": "markdown",
   "id": "c2051775",
   "metadata": {},
   "source": []
  },
  {
   "cell_type": "code",
   "execution_count": 5,
   "id": "1a0b6d4d",
   "metadata": {},
   "outputs": [],
   "source": [
    "clf = MLPClassifier(solver='lbfgs', alpha=1e-5,\n",
    "                    hidden_layer_sizes=(5, 2), random_state=1,max_iter=500)\n",
    "\n",
    "clf.fit(x_train, y_train)\n",
    "nn_predict=clf.predict(x_test)"
   ]
  },
  {
   "cell_type": "markdown",
   "id": "8e746b3a",
   "metadata": {},
   "source": [
    "## Making the confusion matrix (Solver='lbfgs')"
   ]
  },
  {
   "cell_type": "code",
   "execution_count": 6,
   "id": "31829fe5",
   "metadata": {},
   "outputs": [
    {
     "data": {
      "image/png": "[encoded data removed]",
      "text/plain": [
       "<Figure size 432x288 with 2 Axes>"
      ]
     },
     "metadata": {
      "needs_background": "light"
     },
     "output_type": "display_data"
    }
   ],
   "source": [
    "nn_confusion_matrix_lbfgs = confusion_matrix(y_test,nn_predict)\n",
    "ConfusionMatrixDisplay(confusion_matrix = nn_confusion_matrix_lbfgs, display_labels = clf.classes_).plot()\n",
    "plt.show()"
   ]
  },
  {
   "cell_type": "markdown",
   "id": "39722116",
   "metadata": {},
   "source": [
    "## Performance Evaluation"
   ]
  },
  {
   "cell_type": "code",
   "execution_count": 7,
   "id": "21f2c7a8",
   "metadata": {},
   "outputs": [
    {
     "name": "stdout",
     "output_type": "stream",
     "text": [
      "Precision: 84.04%\n",
      "Recall: 84.04%\n",
      "Precision: 84.04%\n",
      "\n",
      "Classification Report: \n",
      "\n",
      "              precision    recall  f1-score   support\n",
      "\n",
      "         1.0       0.88      0.94      0.91       328\n",
      "         2.0       0.50      0.26      0.34        54\n",
      "         3.0       0.77      0.82      0.79        44\n",
      "\n",
      "    accuracy                           0.84       426\n",
      "   macro avg       0.71      0.67      0.68       426\n",
      "weighted avg       0.82      0.84      0.82       426\n",
      "\n"
     ]
    }
   ],
   "source": [
    "print(\"Precision: {:.2f}%\".format(precision_score(y_test, nn_predict,average=\"micro\")*100))\n",
    "print(\"Recall: {:.2f}%\".format(recall_score(y_test, nn_predict,average=\"micro\")*100))\n",
    "print(\"Precision: {:.2f}%\".format(f1_score(y_test, nn_predict,average=\"micro\")*100))\n",
    "\n",
    "print('\\nClassification Report: \\n')\n",
    "print(classification_report(y_test, nn_predict, target_names=[\"1.0\",\"2.0\",\"3.0\"]))"
   ]
  },
  {
   "cell_type": "markdown",
   "id": "7a51eaec",
   "metadata": {},
   "source": [
    "## Try Neural Network(NN) with differnt solver"
   ]
  },
  {
   "cell_type": "markdown",
   "id": "289621b2",
   "metadata": {},
   "source": [
    "### When the solver = sgd ( stochastic gradient descent) "
   ]
  },
  {
   "cell_type": "code",
   "execution_count": 8,
   "id": "78ddcc99",
   "metadata": {},
   "outputs": [],
   "source": [
    "clf_sgd = MLPClassifier(solver='sgd', alpha=1e-5,\n",
    "                    hidden_layer_sizes=(5, 2), random_state=1,max_iter=500)\n",
    "\n",
    "clf_sgd.fit(x_train, y_train)\n",
    "nn_predict_sgd=clf_sgd.predict(x_test)"
   ]
  },
  {
   "cell_type": "markdown",
   "id": "c896230f",
   "metadata": {},
   "source": [
    "## Making Confusion Matrix(solver=sgd)"
   ]
  },
  {
   "cell_type": "code",
   "execution_count": 9,
   "id": "07bd249d",
   "metadata": {},
   "outputs": [
    {
     "data": {
      "image/png": "[encoded data removed]",
      "text/plain": [
       "<Figure size 432x288 with 2 Axes>"
      ]
     },
     "metadata": {
      "needs_background": "light"
     },
     "output_type": "display_data"
    }
   ],
   "source": [
    "nn_confusion_matrix_sgd = confusion_matrix(y_test,nn_predict_sgd)\n",
    "ConfusionMatrixDisplay(confusion_matrix = nn_confusion_matrix_sgd, display_labels = clf_sgd.classes_).plot()\n",
    "plt.show()"
   ]
  },
  {
   "cell_type": "markdown",
   "id": "b3793cc0",
   "metadata": {},
   "source": [
    "### Performance Evaluation while solver is sgd"
   ]
  },
  {
   "cell_type": "code",
   "execution_count": 10,
   "id": "6e243272",
   "metadata": {},
   "outputs": [
    {
     "name": "stdout",
     "output_type": "stream",
     "text": [
      "Precision: 77.00%\n",
      "Recall: 77.00%\n",
      "Precision: 77.00%\n",
      "\n",
      "Classification Report: \n",
      "\n",
      "              precision    recall  f1-score   support\n",
      "\n",
      "         1.0       0.77      1.00      0.87       328\n",
      "         2.0       0.00      0.00      0.00        54\n",
      "         3.0       0.00      0.00      0.00        44\n",
      "\n",
      "    accuracy                           0.77       426\n",
      "   macro avg       0.26      0.33      0.29       426\n",
      "weighted avg       0.59      0.77      0.67       426\n",
      "\n"
     ]
    }
   ],
   "source": [
    "print(\"Precision: {:.2f}%\".format(precision_score(y_test, nn_predict_sgd,average=\"micro\")*100))\n",
    "print(\"Recall: {:.2f}%\".format(recall_score(y_test, nn_predict_sgd,average=\"micro\")*100))\n",
    "print(\"Precision: {:.2f}%\".format(f1_score(y_test, nn_predict_sgd,average=\"micro\")*100))\n",
    "\n",
    "print('\\nClassification Report: \\n')\n",
    "print(classification_report(y_test, nn_predict_sgd, target_names=[\"1.0\",\"2.0\",\"3.0\"]))"
   ]
  },
  {
   "cell_type": "markdown",
   "id": "cf78d766",
   "metadata": {},
   "source": [
    "### When the solver = adam (stochastic gradient based optimizer)"
   ]
  },
  {
   "cell_type": "code",
   "execution_count": 11,
   "id": "7651a96c",
   "metadata": {},
   "outputs": [],
   "source": [
    "clf_adam = MLPClassifier(solver='adam', alpha=1e-5,\n",
    "                    hidden_layer_sizes=(5, 2), random_state=1,max_iter=500)\n",
    "\n",
    "clf_adam.fit(x_train, y_train)\n",
    "nn_predict_adam=clf_adam.predict(x_test)"
   ]
  },
  {
   "cell_type": "markdown",
   "id": "53684c5b",
   "metadata": {},
   "source": [
    "## Making confusion Matrix (Solver=adam)"
   ]
  },
  {
   "cell_type": "code",
   "execution_count": 12,
   "id": "5063aa06",
   "metadata": {},
   "outputs": [
    {
     "data": {
      "image/png": "[encoded data removed]",
      "text/plain": [
       "<Figure size 432x288 with 2 Axes>"
      ]
     },
     "metadata": {
      "needs_background": "light"
     },
     "output_type": "display_data"
    }
   ],
   "source": [
    "nn_confusion_matrix_adam = confusion_matrix(y_test,nn_predict_adam)\n",
    "ConfusionMatrixDisplay(confusion_matrix = nn_confusion_matrix_adam, display_labels = clf_adam.classes_).plot()\n",
    "plt.show()"
   ]
  },
  {
   "cell_type": "markdown",
   "id": "674954ae",
   "metadata": {},
   "source": [
    "### Performance Evaluation while solver is adam"
   ]
  },
  {
   "cell_type": "code",
   "execution_count": 13,
   "id": "96b13ae3",
   "metadata": {},
   "outputs": [
    {
     "name": "stdout",
     "output_type": "stream",
     "text": [
      "Precision: 81.22%\n",
      "Recall: 81.22%\n",
      "Precision: 81.22%\n",
      "\n",
      "Classification Report: \n",
      "\n",
      "              precision    recall  f1-score   support\n",
      "\n",
      "         1.0       0.89      0.95      0.92       328\n",
      "         2.0       0.35      0.43      0.38        54\n",
      "         3.0       1.00      0.23      0.37        44\n",
      "\n",
      "    accuracy                           0.81       426\n",
      "   macro avg       0.75      0.54      0.56       426\n",
      "weighted avg       0.84      0.81      0.80       426\n",
      "\n"
     ]
    }
   ],
   "source": [
    "print(\"Precision: {:.2f}%\".format(precision_score(y_test, nn_predict_adam,average=\"micro\")*100))\n",
    "print(\"Recall: {:.2f}%\".format(recall_score(y_test, nn_predict_adam,average=\"micro\")*100))\n",
    "print(\"Precision: {:.2f}%\".format(f1_score(y_test, nn_predict_adam,average=\"micro\")*100))\n",
    "\n",
    "print('\\nClassification Report: \\n')\n",
    "print(classification_report(y_test, nn_predict_adam, target_names=[\"1.0\",\"2.0\",\"3.0\"]))"
   ]
  },
  {
   "cell_type": "markdown",
   "id": "bdfe8e1f",
   "metadata": {},
   "source": [
    "## Suppor Vector Classifier"
   ]
  },
  {
   "cell_type": "markdown",
   "id": "60bfecae",
   "metadata": {},
   "source": [
    "#### We will use grid search to find the best hyperparameters for the model, the descision_function_shape is set to \"ovr\" which is \"one versus rest\" and probability to True in order to obtain the probablity that every instance belongs to each class"
   ]
  },
  {
   "cell_type": "code",
   "execution_count": 14,
   "id": "8beaa06b",
   "metadata": {},
   "outputs": [],
   "source": [
    "model_svm = SVC(kernel='rbf',decision_function_shape='ovr',probability=True)\n",
    "tune_parameter = {'gamma':[0.01,0.1,1,10],'C':[0.01,0.1,1,10]}\n",
    "\n",
    "svm_model = GridSearchCV(model_svm,tune_parameter,cv=4,scoring='accuracy')\n",
    "svm_model_fit=svm_model.fit(x_train,y_train)"
   ]
  },
  {
   "cell_type": "markdown",
   "id": "90722a19",
   "metadata": {},
   "source": [
    "### printing the best estimators found by grid search"
   ]
  },
  {
   "cell_type": "code",
   "execution_count": 15,
   "id": "7e26ea77",
   "metadata": {},
   "outputs": [
    {
     "name": "stdout",
     "output_type": "stream",
     "text": [
      "SVC(C=10, gamma=0.01, probability=True)\n"
     ]
    }
   ],
   "source": [
    "print(svm_model.best_estimator_)"
   ]
  },
  {
   "cell_type": "markdown",
   "id": "b1d2dac8",
   "metadata": {},
   "source": [
    "### Now building the model using the above hyperparameters"
   ]
  },
  {
   "cell_type": "code",
   "execution_count": 16,
   "id": "ca1dcdfc",
   "metadata": {},
   "outputs": [],
   "source": [
    "svc_ovr = SVC(kernel='rbf',C=10,gamma=0.01,decision_function_shape='ovr',probability=True)\n",
    "svc_ovr.fit(x_train,y_train)\n",
    "svc_ovr_predict = svc_ovr.predict(x_test)"
   ]
  },
  {
   "cell_type": "markdown",
   "id": "0116979f",
   "metadata": {},
   "source": [
    "## Making Confusion Matrix (SVM)"
   ]
  },
  {
   "cell_type": "code",
   "execution_count": 17,
   "id": "1a8048e6",
   "metadata": {},
   "outputs": [
    {
     "data": {
      "image/png": "[encoded data removed]",
      "text/plain": [
       "<Figure size 432x288 with 2 Axes>"
      ]
     },
     "metadata": {
      "needs_background": "light"
     },
     "output_type": "display_data"
    }
   ],
   "source": [
    "svc_ovr_confusion_matrix = confusion_matrix(y_test,svc_ovr_predict)\n",
    "ConfusionMatrixDisplay(confusion_matrix = svc_ovr_confusion_matrix, display_labels = svc_ovr.classes_).plot()\n",
    "plt.show()"
   ]
  },
  {
   "cell_type": "markdown",
   "id": "19a2cc8e",
   "metadata": {},
   "source": [
    "### Performance Evaluation for Support Vector Classifier"
   ]
  },
  {
   "cell_type": "code",
   "execution_count": 18,
   "id": "e9f739db",
   "metadata": {},
   "outputs": [
    {
     "name": "stdout",
     "output_type": "stream",
     "text": [
      "Precision: 85.92%\n",
      "Recall: 85.92%\n",
      "Precision: 85.92%\n",
      "\n",
      "Classification Report: \n",
      "\n",
      "              precision    recall  f1-score   support\n",
      "\n",
      "         1.0       0.86      0.98      0.92       328\n",
      "         2.0       0.73      0.44      0.55        54\n",
      "         3.0       1.00      0.45      0.62        44\n",
      "\n",
      "    accuracy                           0.86       426\n",
      "   macro avg       0.86      0.63      0.70       426\n",
      "weighted avg       0.86      0.86      0.84       426\n",
      "\n"
     ]
    }
   ],
   "source": [
    "print(\"Precision: {:.2f}%\".format(precision_score(y_test, svc_ovr_predict,average=\"micro\")*100))\n",
    "print(\"Recall: {:.2f}%\".format(recall_score(y_test,svc_ovr_predict,average=\"micro\")*100))\n",
    "print(\"Precision: {:.2f}%\".format(f1_score(y_test,svc_ovr_predict,average=\"micro\")*100))\n",
    "\n",
    "print('\\nClassification Report: \\n')\n",
    "print(classification_report(y_test, svc_ovr_predict, target_names=[\"1.0\",\"2.0\",\"3.0\"]))"
   ]
  },
  {
   "cell_type": "code",
   "execution_count": null,
   "id": "06d47488",
   "metadata": {},
   "outputs": [],
   "source": []
  }
 ],
 "metadata": {
  "kernelspec": {
   "display_name": "Python 3 (ipykernel)",
   "language": "python",
   "name": "python3"
  },
  "language_info": {
   "codemirror_mode": {
    "name": "ipython",
    "version": 3
   },
   "file_extension": ".py",
   "mimetype": "text/x-python",
   "name": "python",
   "nbconvert_exporter": "python",
   "pygments_lexer": "ipython3",
   "version": "3.9.7"
  }
 },
 "nbformat": 4,
 "nbformat_minor": 5
}
